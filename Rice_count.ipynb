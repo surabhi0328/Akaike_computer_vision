{
 "cells": [
  {
   "cell_type": "markdown",
   "metadata": {},
   "source": [
    "### Computer Vision Assignment"
   ]
  },
  {
   "cell_type": "markdown",
   "metadata": {},
   "source": [
    "#### Dataset is imported and full grain, broken grain and mixed grain images are kept in 3 separate folders namely Full_grain, Broken_grain and Mixed_grain respectively\n",
    "The approach is we will use full grain and broken grain images for training and mixed grain for testing "
   ]
  },
  {
   "cell_type": "code",
   "execution_count": 32,
   "metadata": {},
   "outputs": [],
   "source": [
    "#Importing required libraries\n",
    "import cv2\n",
    "import numpy as np\n",
    "%matplotlib inline\n",
    "import matplotlib.pyplot as plt\n",
    "\n",
    "np.random.seed(30)\n",
    "import random as rn\n",
    "rn.seed(30)\n",
    "from keras import backend as K\n",
    "import tensorflow as tf\n",
    "\n",
    "from keras.models import Sequential, Model\n",
    "from keras.layers import Dense, Flatten, Flatten, BatchNormalization, Activation\n",
    "from keras.layers.convolutional import Conv2D, MaxPooling2D\n",
    "from keras import optimizers\n",
    "from keras.layers import Dropout\n",
    "\n",
    "from keras.preprocessing.image import ImageDataGenerator\n",
    "from keras.preprocessing import image_dataset_from_directory"
   ]
  },
  {
   "cell_type": "code",
   "execution_count": 33,
   "metadata": {},
   "outputs": [],
   "source": [
    "broken='Broken_grain/broken_grain_1.jpg'\n",
    "full='Full_grain/full_grain_4.jpg'"
   ]
  },
  {
   "cell_type": "code",
   "execution_count": 34,
   "metadata": {},
   "outputs": [],
   "source": [
    "def crop_resize_img(img):\n",
    "#     print(type(img), img.shape)\n",
    "    ht, wd= img.shape\n",
    "\n",
    "    # create new image of desired size and color (black) for padding\n",
    "    ww = 300\n",
    "    hh = 300\n",
    "    color = 0\n",
    "    result = np.full((hh,ww), color, dtype=np.uint8)\n",
    "\n",
    "    # compute center offset\n",
    "    xx = (ww - wd) // 2\n",
    "    yy = (hh - ht) // 2\n",
    "\n",
    "    # copy img image into center of result image\n",
    "    result[yy:yy+ht, xx:xx+wd] = img\n",
    "\n",
    "    final =cv2.resize(result, (50,50))\n",
    "    \n",
    "    return final\n"
   ]
  },
  {
   "cell_type": "markdown",
   "metadata": {},
   "source": [
    "### Data preprocessing"
   ]
  },
  {
   "cell_type": "markdown",
   "metadata": {},
   "source": [
    "#### Method taking image path as input and giving contours as output along with saving each of the contours inside full_rice and broken rice folder"
   ]
  },
  {
   "cell_type": "code",
   "execution_count": 93,
   "metadata": {},
   "outputs": [],
   "source": [
    "def pre_process_And_Count(image_path, output_path):\n",
    "    # load input images for demonstration\n",
    "    input_rice = cv2.imread(image_path, cv2.IMREAD_GRAYSCALE)\n",
    "\n",
    "    # local adaptive thresholding - computes local threshold based on given window size\n",
    "    output_adapthresh = cv2.adaptiveThreshold (input_rice, 255.0, cv2.ADAPTIVE_THRESH_MEAN_C, cv2.THRESH_BINARY, 51, -20.0)\n",
    "\n",
    "    cv2.imwrite('rice_adapthresh.png', output_adapthresh)\n",
    "\n",
    "    # morphologial erosion - cleaning up binary images\n",
    "    kernel = np.ones((5,5),np.uint8)\n",
    "    output_erosion = cv2.erode(output_adapthresh, kernel)\n",
    "\n",
    "    cv2.imwrite('rice_erosion.png', output_erosion)\n",
    "\n",
    "    # Contours - Computes polygonal contour boundary of foreground objects\n",
    "    # apply connected components on clean binary image\n",
    "    contours, hierarchy = cv2.findContours(output_erosion, cv2.RETR_EXTERNAL,  cv2.CHAIN_APPROX_SIMPLE)\n",
    "    output_contour = cv2.cvtColor(input_rice, cv2.COLOR_GRAY2BGR)\n",
    "    cv2.drawContours(output_contour, contours, -1, (0, 0, 255), 2)\n",
    "    print(\"Number of detected contours\", len(contours))\n",
    "    # plt.imshow(\"Contours\", output_contour)\n",
    "    cv2.imwrite('rice_contours.png', output_contour)\n",
    "    # plt.show()\n",
    "    k=1\n",
    "    temp = 0.70 * len(contours)\n",
    "    for i in contours:\n",
    "        x, y, width, height = cv2.boundingRect(i)\n",
    "        roi = output_erosion[y:y+height, x:x+width]\n",
    "        roi=crop_resize_img(roi)\n",
    "        path  = ''\n",
    "        if output_path !='mixed/mixed_':\n",
    "            if k<temp:\n",
    "                path = 'dataset/train/'+output_path\n",
    "\n",
    "            else:\n",
    "                path = 'dataset/test/'+output_path\n",
    "        else:\n",
    "            path = output_path\n",
    "        cv2.imwrite(path+str(k)+\".png\", roi)\n",
    "        k+=1\n"
   ]
  },
  {
   "cell_type": "markdown",
   "metadata": {},
   "source": [
    "### Create a dataset folder in which bifurcate into train and test folder"
   ]
  },
  {
   "cell_type": "code",
   "execution_count": 94,
   "metadata": {},
   "outputs": [],
   "source": [
    "#method to create directory\n",
    "def create_directory(path):\n",
    "    if not os.path.exists(path):\n",
    "        os.makedirs(path)"
   ]
  },
  {
   "cell_type": "code",
   "execution_count": 95,
   "metadata": {},
   "outputs": [],
   "source": [
    "# dataset folder creation\n",
    "create_directory('dataset')"
   ]
  },
  {
   "cell_type": "code",
   "execution_count": 96,
   "metadata": {},
   "outputs": [],
   "source": [
    "# train folder creation \n",
    "create_directory('dataset/train')"
   ]
  },
  {
   "cell_type": "code",
   "execution_count": 97,
   "metadata": {},
   "outputs": [],
   "source": [
    "# test folder creation\n",
    "create_directory('dataset/test')"
   ]
  },
  {
   "cell_type": "code",
   "execution_count": 98,
   "metadata": {},
   "outputs": [],
   "source": [
    "# full rice folder creation at train level\n",
    "create_directory('dataset/train/full_rice')"
   ]
  },
  {
   "cell_type": "code",
   "execution_count": 99,
   "metadata": {},
   "outputs": [],
   "source": [
    "# full rice folder creation at test level\n",
    "create_directory('dataset/test/full_rice')"
   ]
  },
  {
   "cell_type": "code",
   "execution_count": 100,
   "metadata": {},
   "outputs": [],
   "source": [
    "# broken rice folder creation at train level\n",
    "create_directory('dataset/train/broken_rice')"
   ]
  },
  {
   "cell_type": "code",
   "execution_count": 101,
   "metadata": {},
   "outputs": [],
   "source": [
    "# broken rice folder creation at test level\n",
    "create_directory('dataset/test/broken_rice')"
   ]
  },
  {
   "cell_type": "code",
   "execution_count": 102,
   "metadata": {},
   "outputs": [
    {
     "name": "stdout",
     "output_type": "stream",
     "text": [
      "Number of detected contours 680\n"
     ]
    }
   ],
   "source": [
    "#preprocess and save the contours at specific path\n",
    "pre_process_And_Count(full, 'full_rice/full_')"
   ]
  },
  {
   "cell_type": "code",
   "execution_count": 103,
   "metadata": {
    "scrolled": true
   },
   "outputs": [
    {
     "name": "stdout",
     "output_type": "stream",
     "text": [
      "Number of detected contours 650\n"
     ]
    }
   ],
   "source": [
    "#preprocess and save the contours at specific path\n",
    "pre_process_And_Count(broken, 'broken_rice/broken_')"
   ]
  },
  {
   "cell_type": "markdown",
   "metadata": {},
   "source": [
    "#### Cutting and  moving some of the images from the train/full_rice to test/full_rice and train/broken_rice to test/broken_rice"
   ]
  },
  {
   "cell_type": "code",
   "execution_count": 104,
   "metadata": {
    "scrolled": true
   },
   "outputs": [
    {
     "name": "stdout",
     "output_type": "stream",
     "text": [
      "Found 929 images belonging to 2 classes.\n",
      "Found 401 images belonging to 2 classes.\n"
     ]
    }
   ],
   "source": [
    "# Creating image data generator\n",
    "image_size = (50,50)\n",
    "batch_size = 32\n",
    "\n",
    "train_datagen = ImageDataGenerator(\n",
    "    rescale=1. / 255,\n",
    "    shear_range=0.2,\n",
    "    zoom_range=0.2,\n",
    "    horizontal_flip=True)\n",
    "test_datagen = ImageDataGenerator(rescale=1. / 255)\n",
    "\n",
    "train_generator = train_datagen.flow_from_directory(\n",
    "    \"dataset/train\",\n",
    "    target_size=(50,50),\n",
    "    batch_size=32,\n",
    "    class_mode='binary',\n",
    "    color_mode='grayscale'\n",
    ")\n",
    "\n",
    "\n",
    "validation_generator = test_datagen.flow_from_directory(\n",
    "    \"dataset/test\",\n",
    "    target_size=(50, 50),\n",
    "    batch_size=32,\n",
    "    class_mode='binary',\n",
    "    color_mode='grayscale'\n",
    ")\n"
   ]
  },
  {
   "cell_type": "code",
   "execution_count": 105,
   "metadata": {
    "scrolled": true
   },
   "outputs": [
    {
     "data": {
      "text/plain": [
       "{'broken_rice': 0, 'full_rice': 1}"
      ]
     },
     "execution_count": 105,
     "metadata": {},
     "output_type": "execute_result"
    }
   ],
   "source": [
    "train_generator.class_indices"
   ]
  },
  {
   "cell_type": "code",
   "execution_count": 106,
   "metadata": {},
   "outputs": [
    {
     "data": {
      "text/plain": [
       "(32, 50, 50, 1)"
      ]
     },
     "execution_count": 106,
     "metadata": {},
     "output_type": "execute_result"
    }
   ],
   "source": [
    "a, b = next(train_generator)\n",
    "a.shape"
   ]
  },
  {
   "cell_type": "code",
   "execution_count": 107,
   "metadata": {},
   "outputs": [
    {
     "data": {
      "text/plain": [
       "(50, 50, 1)"
      ]
     },
     "execution_count": 107,
     "metadata": {},
     "output_type": "execute_result"
    }
   ],
   "source": [
    "img_width = 50\n",
    "img_height = 50\n",
    "\n",
    "# Check for TensorFlow or Thieno\n",
    "if K.image_data_format() == 'channels_first':\n",
    "    input_shape = (1, img_width, img_height)\n",
    "else:\n",
    "    input_shape = (img_width, img_height, 1)\n",
    "    \n",
    "input_shape"
   ]
  },
  {
   "cell_type": "markdown",
   "metadata": {},
   "source": [
    "### Model creation"
   ]
  },
  {
   "cell_type": "code",
   "execution_count": 109,
   "metadata": {
    "scrolled": true
   },
   "outputs": [
    {
     "name": "stdout",
     "output_type": "stream",
     "text": [
      "Epoch 1/200\n",
      "10/10 [==============================] - 1s 150ms/step - loss: 0.6870 - accuracy: 0.5813 - val_loss: 0.6810 - val_accuracy: 0.7500\n",
      "Epoch 2/200\n",
      "10/10 [==============================] - 1s 135ms/step - loss: 0.6806 - accuracy: 0.6594 - val_loss: 0.6929 - val_accuracy: 0.4844\n",
      "Epoch 3/200\n",
      "10/10 [==============================] - 1s 122ms/step - loss: 0.6855 - accuracy: 0.5952 - val_loss: 0.6820 - val_accuracy: 0.5781\n",
      "Epoch 4/200\n",
      "10/10 [==============================] - 1s 140ms/step - loss: 0.6715 - accuracy: 0.6219 - val_loss: 0.6902 - val_accuracy: 0.5625\n",
      "Epoch 5/200\n",
      "10/10 [==============================] - 1s 140ms/step - loss: 0.6585 - accuracy: 0.6781 - val_loss: 0.6671 - val_accuracy: 0.6094\n",
      "Epoch 6/200\n",
      "10/10 [==============================] - ETA: 0s - loss: 0.6674 - accuracy: 0.66 - 1s 135ms/step - loss: 0.6674 - accuracy: 0.6625 - val_loss: 0.7195 - val_accuracy: 0.5469\n",
      "Epoch 7/200\n",
      "10/10 [==============================] - 1s 139ms/step - loss: 0.6610 - accuracy: 0.6219 - val_loss: 0.6346 - val_accuracy: 0.7031\n",
      "Epoch 8/200\n",
      "10/10 [==============================] - 1s 147ms/step - loss: 0.6477 - accuracy: 0.6906 - val_loss: 0.6717 - val_accuracy: 0.7031\n",
      "Epoch 9/200\n",
      "10/10 [==============================] - 2s 151ms/step - loss: 0.6571 - accuracy: 0.6656 - val_loss: 0.6535 - val_accuracy: 0.6562\n",
      "Epoch 10/200\n",
      "10/10 [==============================] - 1s 128ms/step - loss: 0.6456 - accuracy: 0.6678 - val_loss: 0.6448 - val_accuracy: 0.7188\n",
      "Epoch 11/200\n",
      "10/10 [==============================] - 1s 149ms/step - loss: 0.6319 - accuracy: 0.6969 - val_loss: 0.6509 - val_accuracy: 0.6250\n",
      "Epoch 12/200\n",
      "10/10 [==============================] - 1s 136ms/step - loss: 0.6099 - accuracy: 0.7312 - val_loss: 0.6742 - val_accuracy: 0.5938\n",
      "Epoch 13/200\n",
      "10/10 [==============================] - 1s 134ms/step - loss: 0.6165 - accuracy: 0.6969 - val_loss: 0.6273 - val_accuracy: 0.6875\n",
      "Epoch 14/200\n",
      "10/10 [==============================] - 1s 136ms/step - loss: 0.5973 - accuracy: 0.7000 - val_loss: 0.6240 - val_accuracy: 0.7344\n",
      "Epoch 15/200\n",
      "10/10 [==============================] - 1s 134ms/step - loss: 0.6021 - accuracy: 0.7125 - val_loss: 0.6575 - val_accuracy: 0.6406\n",
      "Epoch 16/200\n",
      "10/10 [==============================] - 1s 121ms/step - loss: 0.5869 - accuracy: 0.6817 - val_loss: 0.7222 - val_accuracy: 0.6406\n",
      "Epoch 17/200\n",
      "10/10 [==============================] - 1s 136ms/step - loss: 0.5847 - accuracy: 0.7405 - val_loss: 0.6307 - val_accuracy: 0.6719\n",
      "Epoch 18/200\n",
      "10/10 [==============================] - 1s 143ms/step - loss: 0.5921 - accuracy: 0.7250 - val_loss: 0.6548 - val_accuracy: 0.6406\n",
      "Epoch 19/200\n",
      "10/10 [==============================] - 1s 140ms/step - loss: 0.5694 - accuracy: 0.7281 - val_loss: 0.6719 - val_accuracy: 0.6562\n",
      "Epoch 20/200\n",
      "10/10 [==============================] - 1s 135ms/step - loss: 0.5606 - accuracy: 0.7250 - val_loss: 0.6766 - val_accuracy: 0.6250\n",
      "Epoch 21/200\n",
      "10/10 [==============================] - 1s 147ms/step - loss: 0.5637 - accuracy: 0.7406 - val_loss: 0.6189 - val_accuracy: 0.7188\n",
      "Epoch 22/200\n",
      "10/10 [==============================] - 1s 137ms/step - loss: 0.5081 - accuracy: 0.7344 - val_loss: 0.6038 - val_accuracy: 0.7188\n",
      "Epoch 23/200\n",
      "10/10 [==============================] - 1s 132ms/step - loss: 0.5314 - accuracy: 0.7469 - val_loss: 0.5355 - val_accuracy: 0.7344\n",
      "Epoch 24/200\n",
      "10/10 [==============================] - 1s 131ms/step - loss: 0.5666 - accuracy: 0.7000 - val_loss: 0.6568 - val_accuracy: 0.7031\n",
      "Epoch 25/200\n",
      "10/10 [==============================] - 1s 130ms/step - loss: 0.5592 - accuracy: 0.6906 - val_loss: 0.6003 - val_accuracy: 0.6562\n",
      "Epoch 26/200\n",
      "10/10 [==============================] - 1s 134ms/step - loss: 0.5356 - accuracy: 0.7656 - val_loss: 0.6208 - val_accuracy: 0.6094\n",
      "Epoch 27/200\n",
      "10/10 [==============================] - 1s 123ms/step - loss: 0.4944 - accuracy: 0.7958 - val_loss: 0.6125 - val_accuracy: 0.6875\n",
      "Epoch 28/200\n",
      "10/10 [==============================] - 1s 135ms/step - loss: 0.5356 - accuracy: 0.7375 - val_loss: 0.5619 - val_accuracy: 0.7656\n",
      "Epoch 29/200\n",
      "10/10 [==============================] - 1s 125ms/step - loss: 0.5223 - accuracy: 0.7405 - val_loss: 0.5742 - val_accuracy: 0.7188\n",
      "Epoch 30/200\n",
      "10/10 [==============================] - 1s 136ms/step - loss: 0.5179 - accuracy: 0.7875 - val_loss: 0.5509 - val_accuracy: 0.7500\n",
      "Epoch 31/200\n",
      "10/10 [==============================] - 1s 140ms/step - loss: 0.5005 - accuracy: 0.7647 - val_loss: 0.6166 - val_accuracy: 0.6719\n",
      "Epoch 32/200\n",
      "10/10 [==============================] - 1s 136ms/step - loss: 0.5202 - accuracy: 0.7594 - val_loss: 0.4917 - val_accuracy: 0.7969\n",
      "Epoch 33/200\n",
      "10/10 [==============================] - 1s 130ms/step - loss: 0.5223 - accuracy: 0.7370 - val_loss: 0.5225 - val_accuracy: 0.7188\n",
      "Epoch 34/200\n",
      "10/10 [==============================] - 1s 131ms/step - loss: 0.5125 - accuracy: 0.7531 - val_loss: 0.5444 - val_accuracy: 0.7188\n",
      "Epoch 35/200\n",
      "10/10 [==============================] - 1s 130ms/step - loss: 0.4763 - accuracy: 0.8000 - val_loss: 0.5536 - val_accuracy: 0.6875\n",
      "Epoch 36/200\n",
      "10/10 [==============================] - 1s 131ms/step - loss: 0.4578 - accuracy: 0.7937 - val_loss: 0.5196 - val_accuracy: 0.7188\n",
      "Epoch 37/200\n",
      "10/10 [==============================] - 1s 132ms/step - loss: 0.4933 - accuracy: 0.7500 - val_loss: 0.6526 - val_accuracy: 0.6719\n",
      "Epoch 38/200\n",
      "10/10 [==============================] - 1s 132ms/step - loss: 0.4578 - accuracy: 0.7750 - val_loss: 0.5560 - val_accuracy: 0.7344\n",
      "Epoch 39/200\n",
      "10/10 [==============================] - 1s 133ms/step - loss: 0.4577 - accuracy: 0.7969 - val_loss: 0.6621 - val_accuracy: 0.5781\n",
      "Epoch 40/200\n",
      "10/10 [==============================] - 1s 140ms/step - loss: 0.4443 - accuracy: 0.8062 - val_loss: 0.5549 - val_accuracy: 0.6719\n",
      "Epoch 41/200\n",
      "10/10 [==============================] - 1s 142ms/step - loss: 0.4143 - accuracy: 0.8156 - val_loss: 0.5770 - val_accuracy: 0.7344\n",
      "Epoch 42/200\n",
      "10/10 [==============================] - 2s 151ms/step - loss: 0.4551 - accuracy: 0.7594 - val_loss: 0.5615 - val_accuracy: 0.7188\n",
      "Epoch 43/200\n",
      "10/10 [==============================] - 2s 157ms/step - loss: 0.4939 - accuracy: 0.7500 - val_loss: 0.6100 - val_accuracy: 0.7500\n",
      "Epoch 44/200\n",
      "10/10 [==============================] - 1s 139ms/step - loss: 0.4510 - accuracy: 0.7889 - val_loss: 0.4932 - val_accuracy: 0.7500\n",
      "Epoch 45/200\n",
      "10/10 [==============================] - 2s 151ms/step - loss: 0.4690 - accuracy: 0.7656 - val_loss: 0.6712 - val_accuracy: 0.6719\n",
      "Epoch 46/200\n",
      "10/10 [==============================] - 1s 143ms/step - loss: 0.4728 - accuracy: 0.7688 - val_loss: 0.5480 - val_accuracy: 0.7344\n",
      "Epoch 47/200\n",
      "10/10 [==============================] - 1s 144ms/step - loss: 0.4295 - accuracy: 0.8062 - val_loss: 0.5816 - val_accuracy: 0.7500\n",
      "Epoch 48/200\n",
      "10/10 [==============================] - 1s 136ms/step - loss: 0.4468 - accuracy: 0.7924 - val_loss: 0.6119 - val_accuracy: 0.6719\n",
      "Epoch 49/200\n",
      "10/10 [==============================] - 2s 161ms/step - loss: 0.4217 - accuracy: 0.7781 - val_loss: 0.5888 - val_accuracy: 0.7031\n",
      "Epoch 50/200\n",
      "10/10 [==============================] - 2s 154ms/step - loss: 0.4509 - accuracy: 0.7875 - val_loss: 0.5228 - val_accuracy: 0.6719\n",
      "Epoch 51/200\n",
      "10/10 [==============================] - 2s 157ms/step - loss: 0.4165 - accuracy: 0.8281 - val_loss: 0.6348 - val_accuracy: 0.7188\n",
      "Epoch 52/200\n",
      "10/10 [==============================] - 2s 154ms/step - loss: 0.4057 - accuracy: 0.8406 - val_loss: 0.5642 - val_accuracy: 0.6719\n",
      "Epoch 53/200\n",
      "10/10 [==============================] - 1s 147ms/step - loss: 0.4300 - accuracy: 0.8219 - val_loss: 0.5069 - val_accuracy: 0.7500\n",
      "Epoch 54/200\n",
      "10/10 [==============================] - 1s 143ms/step - loss: 0.4198 - accuracy: 0.8000 - val_loss: 0.4999 - val_accuracy: 0.7500\n",
      "Epoch 55/200\n",
      "10/10 [==============================] - 1s 145ms/step - loss: 0.4347 - accuracy: 0.8125 - val_loss: 0.6435 - val_accuracy: 0.7031\n",
      "Epoch 56/200\n",
      "10/10 [==============================] - 1s 146ms/step - loss: 0.4275 - accuracy: 0.8219 - val_loss: 0.5093 - val_accuracy: 0.7500\n",
      "Epoch 57/200\n",
      "10/10 [==============================] - 2s 152ms/step - loss: 0.3987 - accuracy: 0.8219 - val_loss: 0.5606 - val_accuracy: 0.7031\n"
     ]
    },
    {
     "name": "stdout",
     "output_type": "stream",
     "text": [
      "Epoch 58/200\n",
      "10/10 [==============================] - 2s 175ms/step - loss: 0.4204 - accuracy: 0.8406 - val_loss: 0.4898 - val_accuracy: 0.7500\n",
      "Epoch 59/200\n",
      "10/10 [==============================] - 2s 159ms/step - loss: 0.3551 - accuracy: 0.8651 - val_loss: 0.5725 - val_accuracy: 0.6875\n",
      "Epoch 60/200\n",
      "10/10 [==============================] - 2s 185ms/step - loss: 0.4307 - accuracy: 0.8156 - val_loss: 0.6963 - val_accuracy: 0.6406\n",
      "Epoch 61/200\n",
      "10/10 [==============================] - 71s 7s/step - loss: 0.3701 - accuracy: 0.8408 - val_loss: 0.5585 - val_accuracy: 0.7031\n",
      "Epoch 62/200\n",
      "10/10 [==============================] - 2s 151ms/step - loss: 0.4411 - accuracy: 0.7682 - val_loss: 0.4206 - val_accuracy: 0.8125\n",
      "Epoch 63/200\n",
      "10/10 [==============================] - 2s 228ms/step - loss: 0.3604 - accuracy: 0.8313 - val_loss: 0.4657 - val_accuracy: 0.8125\n",
      "Epoch 64/200\n",
      "10/10 [==============================] - 2s 206ms/step - loss: 0.4092 - accuracy: 0.7969 - val_loss: 0.7076 - val_accuracy: 0.7344\n",
      "Epoch 65/200\n",
      "10/10 [==============================] - 2s 170ms/step - loss: 0.3882 - accuracy: 0.7958 - val_loss: 0.5703 - val_accuracy: 0.7500.3882 - accuracy: 0.79\n",
      "Epoch 66/200\n",
      "10/10 [==============================] - 2s 200ms/step - loss: 0.3968 - accuracy: 0.8188 - val_loss: 0.6271 - val_accuracy: 0.7344\n",
      "Epoch 67/200\n",
      "10/10 [==============================] - 2s 189ms/step - loss: 0.4191 - accuracy: 0.8125 - val_loss: 0.8049 - val_accuracy: 0.6406\n",
      "Epoch 68/200\n",
      "10/10 [==============================] - 2s 174ms/step - loss: 0.3663 - accuracy: 0.8408 - val_loss: 0.6163 - val_accuracy: 0.6406\n",
      "Epoch 69/200\n",
      "10/10 [==============================] - 2s 173ms/step - loss: 0.3978 - accuracy: 0.7719 - val_loss: 0.5285 - val_accuracy: 0.7812\n",
      "Epoch 70/200\n",
      "10/10 [==============================] - 1s 148ms/step - loss: 0.3651 - accuracy: 0.8408 - val_loss: 0.4679 - val_accuracy: 0.7344\n",
      "Epoch 71/200\n",
      "10/10 [==============================] - 1s 143ms/step - loss: 0.4096 - accuracy: 0.7969 - val_loss: 0.3850 - val_accuracy: 0.8281\n",
      "Epoch 72/200\n",
      "10/10 [==============================] - 1s 147ms/step - loss: 0.4074 - accuracy: 0.8031 - val_loss: 0.4364 - val_accuracy: 0.8125\n",
      "Epoch 73/200\n",
      "10/10 [==============================] - 2s 155ms/step - loss: 0.4140 - accuracy: 0.8219 - val_loss: 0.4281 - val_accuracy: 0.7344\n",
      "Epoch 74/200\n",
      "10/10 [==============================] - 2s 156ms/step - loss: 0.3365 - accuracy: 0.8719 - val_loss: 0.5874 - val_accuracy: 0.7500\n",
      "Epoch 75/200\n",
      "10/10 [==============================] - 1s 140ms/step - loss: 0.3979 - accuracy: 0.8062 - val_loss: 0.4670 - val_accuracy: 0.7812\n",
      "Epoch 76/200\n",
      "10/10 [==============================] - 2s 166ms/step - loss: 0.3865 - accuracy: 0.8219 - val_loss: 0.4571 - val_accuracy: 0.7500\n",
      "Epoch 77/200\n",
      "10/10 [==============================] - 2s 170ms/step - loss: 0.3659 - accuracy: 0.8469 - val_loss: 0.7468 - val_accuracy: 0.6406\n",
      "Epoch 78/200\n",
      "10/10 [==============================] - 2s 187ms/step - loss: 0.4031 - accuracy: 0.8188 - val_loss: 0.4195 - val_accuracy: 0.7656\n",
      "Epoch 79/200\n",
      "10/10 [==============================] - 2s 174ms/step - loss: 0.3630 - accuracy: 0.8594 - val_loss: 0.4043 - val_accuracy: 0.8125\n",
      "Epoch 80/200\n",
      "10/10 [==============================] - 2s 167ms/step - loss: 0.4043 - accuracy: 0.8156 - val_loss: 0.4362 - val_accuracy: 0.8125\n",
      "Epoch 81/200\n",
      "10/10 [==============================] - 1s 145ms/step - loss: 0.3655 - accuracy: 0.8270 - val_loss: 0.7419 - val_accuracy: 0.6406\n",
      "Epoch 82/200\n",
      "10/10 [==============================] - 1s 140ms/step - loss: 0.4135 - accuracy: 0.8028 - val_loss: 0.4306 - val_accuracy: 0.8281\n",
      "Epoch 83/200\n",
      "10/10 [==============================] - 2s 153ms/step - loss: 0.4085 - accuracy: 0.8125 - val_loss: 0.4942 - val_accuracy: 0.7812\n",
      "Epoch 84/200\n",
      "10/10 [==============================] - 2s 159ms/step - loss: 0.4123 - accuracy: 0.8250 - val_loss: 0.5130 - val_accuracy: 0.7656\n",
      "Epoch 85/200\n",
      "10/10 [==============================] - 1s 148ms/step - loss: 0.3722 - accuracy: 0.8281 - val_loss: 0.4172 - val_accuracy: 0.7969\n",
      "Epoch 86/200\n",
      "10/10 [==============================] - 2s 151ms/step - loss: 0.3996 - accuracy: 0.8438 - val_loss: 0.7566 - val_accuracy: 0.7344\n",
      "Epoch 87/200\n",
      "10/10 [==============================] - 1s 146ms/step - loss: 0.3810 - accuracy: 0.8406 - val_loss: 0.5372 - val_accuracy: 0.7656\n",
      "Epoch 88/200\n",
      "10/10 [==============================] - 1s 149ms/step - loss: 0.3617 - accuracy: 0.8406 - val_loss: 0.4799 - val_accuracy: 0.8125\n",
      "Epoch 89/200\n",
      "10/10 [==============================] - 2s 152ms/step - loss: 0.3952 - accuracy: 0.8313 - val_loss: 0.4840 - val_accuracy: 0.7812\n",
      "Epoch 90/200\n",
      "10/10 [==============================] - 1s 147ms/step - loss: 0.4034 - accuracy: 0.8250 - val_loss: 0.5374 - val_accuracy: 0.7656\n",
      "Epoch 91/200\n",
      "10/10 [==============================] - 1s 133ms/step - loss: 0.3153 - accuracy: 0.8581 - val_loss: 0.4198 - val_accuracy: 0.7969\n",
      "Epoch 92/200\n",
      "10/10 [==============================] - 1s 143ms/step - loss: 0.3949 - accuracy: 0.8219 - val_loss: 0.5658 - val_accuracy: 0.7500\n",
      "Epoch 93/200\n",
      "10/10 [==============================] - 1s 143ms/step - loss: 0.4193 - accuracy: 0.8166 - val_loss: 0.3178 - val_accuracy: 0.8438\n",
      "Epoch 94/200\n",
      "10/10 [==============================] - 2s 160ms/step - loss: 0.4311 - accuracy: 0.7958 - val_loss: 0.5679 - val_accuracy: 0.7500\n",
      "Epoch 95/200\n",
      "10/10 [==============================] - 2s 155ms/step - loss: 0.4122 - accuracy: 0.8000 - val_loss: 0.6464 - val_accuracy: 0.7031\n",
      "Epoch 96/200\n",
      "10/10 [==============================] - 2s 199ms/step - loss: 0.3575 - accuracy: 0.8562 - val_loss: 0.4388 - val_accuracy: 0.7656\n",
      "Epoch 97/200\n",
      "10/10 [==============================] - 2s 180ms/step - loss: 0.3697 - accuracy: 0.8478 - val_loss: 0.3981 - val_accuracy: 0.8125\n",
      "Epoch 98/200\n",
      "10/10 [==============================] - 2s 157ms/step - loss: 0.4117 - accuracy: 0.8188 - val_loss: 0.4456 - val_accuracy: 0.7812\n",
      "Epoch 99/200\n",
      "10/10 [==============================] - 2s 167ms/step - loss: 0.4122 - accuracy: 0.8219 - val_loss: 0.5272 - val_accuracy: 0.7812\n",
      "Epoch 100/200\n",
      "10/10 [==============================] - 1s 143ms/step - loss: 0.3919 - accuracy: 0.8188 - val_loss: 0.4129 - val_accuracy: 0.8125\n",
      "Epoch 101/200\n",
      "10/10 [==============================] - 1s 129ms/step - loss: 0.3778 - accuracy: 0.8304 - val_loss: 0.4881 - val_accuracy: 0.7969\n",
      "Epoch 102/200\n",
      "10/10 [==============================] - 1s 140ms/step - loss: 0.3799 - accuracy: 0.8219 - val_loss: 0.5163 - val_accuracy: 0.7500\n",
      "Epoch 103/200\n",
      "10/10 [==============================] - 1s 145ms/step - loss: 0.3986 - accuracy: 0.8406 - val_loss: 0.4237 - val_accuracy: 0.8438\n",
      "Epoch 104/200\n",
      "10/10 [==============================] - 1s 130ms/step - loss: 0.4046 - accuracy: 0.7993 - val_loss: 0.6886 - val_accuracy: 0.7344\n",
      "Epoch 105/200\n",
      "10/10 [==============================] - 2s 165ms/step - loss: 0.3799 - accuracy: 0.8594 - val_loss: 0.5114 - val_accuracy: 0.7188\n",
      "Epoch 106/200\n",
      "10/10 [==============================] - 2s 186ms/step - loss: 0.3720 - accuracy: 0.8219 - val_loss: 0.5341 - val_accuracy: 0.7656\n",
      "Epoch 107/200\n",
      "10/10 [==============================] - 2s 164ms/step - loss: 0.3518 - accuracy: 0.8500 - val_loss: 0.4444 - val_accuracy: 0.7500\n",
      "Epoch 108/200\n",
      "10/10 [==============================] - 2s 164ms/step - loss: 0.4032 - accuracy: 0.8062 - val_loss: 0.7747 - val_accuracy: 0.5781\n",
      "Epoch 109/200\n",
      "10/10 [==============================] - 2s 155ms/step - loss: 0.4050 - accuracy: 0.8062 - val_loss: 0.6461 - val_accuracy: 0.6562\n",
      "Epoch 110/200\n",
      "10/10 [==============================] - 1s 146ms/step - loss: 0.3687 - accuracy: 0.8443 - val_loss: 0.6405 - val_accuracy: 0.7188\n",
      "Epoch 111/200\n",
      "10/10 [==============================] - 2s 153ms/step - loss: 0.3664 - accuracy: 0.8344 - val_loss: 0.5215 - val_accuracy: 0.6719\n",
      "Epoch 112/200\n",
      "10/10 [==============================] - 2s 152ms/step - loss: 0.3792 - accuracy: 0.8625 - val_loss: 0.4707 - val_accuracy: 0.7656\n",
      "Epoch 113/200\n",
      "10/10 [==============================] - 2s 170ms/step - loss: 0.3600 - accuracy: 0.8281 - val_loss: 0.6162 - val_accuracy: 0.7031\n",
      "Epoch 114/200\n"
     ]
    },
    {
     "name": "stdout",
     "output_type": "stream",
     "text": [
      "10/10 [==============================] - 1s 133ms/step - loss: 0.3375 - accuracy: 0.8547 - val_loss: 0.4730 - val_accuracy: 0.8125\n",
      "Epoch 115/200\n",
      "10/10 [==============================] - 2s 157ms/step - loss: 0.4037 - accuracy: 0.8062 - val_loss: 0.5635 - val_accuracy: 0.7031\n",
      "Epoch 116/200\n",
      "10/10 [==============================] - 1s 149ms/step - loss: 0.3425 - accuracy: 0.8500 - val_loss: 0.4366 - val_accuracy: 0.7500\n",
      "Epoch 117/200\n",
      "10/10 [==============================] - 2s 156ms/step - loss: 0.4240 - accuracy: 0.8125 - val_loss: 0.5690 - val_accuracy: 0.7500\n",
      "Epoch 118/200\n",
      "10/10 [==============================] - 1s 141ms/step - loss: 0.3281 - accuracy: 0.8719 - val_loss: 0.5253 - val_accuracy: 0.7656\n",
      "Epoch 119/200\n",
      "10/10 [==============================] - 2s 168ms/step - loss: 0.3355 - accuracy: 0.8594 - val_loss: 0.4625 - val_accuracy: 0.8125\n",
      "Epoch 120/200\n",
      "10/10 [==============================] - 119s 12s/step - loss: 0.3703 - accuracy: 0.8313 - val_loss: 0.5508 - val_accuracy: 0.7031\n",
      "Epoch 121/200\n",
      "10/10 [==============================] - 2s 233ms/step - loss: 0.3606 - accuracy: 0.8406 - val_loss: 0.3895 - val_accuracy: 0.8438\n",
      "Epoch 122/200\n",
      "10/10 [==============================] - 2s 242ms/step - loss: 0.3324 - accuracy: 0.8616 - val_loss: 0.5449 - val_accuracy: 0.7969\n",
      "Epoch 123/200\n",
      "10/10 [==============================] - 2s 179ms/step - loss: 0.3574 - accuracy: 0.8374 - val_loss: 0.5043 - val_accuracy: 0.7500\n",
      "Epoch 124/200\n",
      "10/10 [==============================] - 2s 170ms/step - loss: 0.3563 - accuracy: 0.8443 - val_loss: 0.3909 - val_accuracy: 0.8594\n",
      "Epoch 125/200\n",
      "10/10 [==============================] - 2s 196ms/step - loss: 0.3403 - accuracy: 0.8562 - val_loss: 0.7088 - val_accuracy: 0.6562\n",
      "Epoch 126/200\n",
      "10/10 [==============================] - 2s 199ms/step - loss: 0.3431 - accuracy: 0.8687 - val_loss: 0.5129 - val_accuracy: 0.7656\n",
      "Epoch 127/200\n",
      "10/10 [==============================] - 2s 154ms/step - loss: 0.4186 - accuracy: 0.7958 - val_loss: 0.4405 - val_accuracy: 0.7188\n",
      "Epoch 128/200\n",
      "10/10 [==============================] - 1s 144ms/step - loss: 0.3101 - accuracy: 0.8720 - val_loss: 0.6246 - val_accuracy: 0.6719\n",
      "Epoch 129/200\n",
      "10/10 [==============================] - 1s 139ms/step - loss: 0.4165 - accuracy: 0.7647 - val_loss: 0.6332 - val_accuracy: 0.6875\n",
      "Epoch 130/200\n",
      "10/10 [==============================] - 2s 159ms/step - loss: 0.3885 - accuracy: 0.7969 - val_loss: 0.5615 - val_accuracy: 0.7812\n",
      "Epoch 131/200\n",
      "10/10 [==============================] - 1s 143ms/step - loss: 0.3802 - accuracy: 0.8131 - val_loss: 0.3854 - val_accuracy: 0.8125\n",
      "Epoch 132/200\n",
      "10/10 [==============================] - 2s 164ms/step - loss: 0.3610 - accuracy: 0.8438 - val_loss: 0.4103 - val_accuracy: 0.8438\n",
      "Epoch 133/200\n",
      "10/10 [==============================] - 2s 155ms/step - loss: 0.3803 - accuracy: 0.8313 - val_loss: 0.3652 - val_accuracy: 0.8438\n",
      "Epoch 134/200\n",
      "10/10 [==============================] - 1s 143ms/step - loss: 0.3607 - accuracy: 0.8531 - val_loss: 0.4958 - val_accuracy: 0.7812\n",
      "Epoch 135/200\n",
      "10/10 [==============================] - 1s 150ms/step - loss: 0.3996 - accuracy: 0.7958 - val_loss: 0.4814 - val_accuracy: 0.7500\n",
      "Epoch 136/200\n",
      "10/10 [==============================] - 1s 148ms/step - loss: 0.3786 - accuracy: 0.8131 - val_loss: 0.4663 - val_accuracy: 0.8125\n",
      "Epoch 137/200\n",
      "10/10 [==============================] - 1s 145ms/step - loss: 0.3280 - accuracy: 0.8547 - val_loss: 0.4098 - val_accuracy: 0.8281\n",
      "Epoch 138/200\n",
      "10/10 [==============================] - 2s 159ms/step - loss: 0.3626 - accuracy: 0.8406 - val_loss: 0.4936 - val_accuracy: 0.7031\n",
      "Epoch 139/200\n",
      "10/10 [==============================] - 1s 148ms/step - loss: 0.3268 - accuracy: 0.8656 - val_loss: 0.5037 - val_accuracy: 0.7656\n",
      "Epoch 140/200\n",
      "10/10 [==============================] - 2s 158ms/step - loss: 0.3640 - accuracy: 0.8438 - val_loss: 0.6234 - val_accuracy: 0.7656\n",
      "Epoch 141/200\n",
      "10/10 [==============================] - 1s 139ms/step - loss: 0.3536 - accuracy: 0.8478 - val_loss: 0.4664 - val_accuracy: 0.7500\n",
      "Epoch 142/200\n",
      "10/10 [==============================] - 2s 156ms/step - loss: 0.4025 - accuracy: 0.8062 - val_loss: 0.6074 - val_accuracy: 0.7188\n",
      "Epoch 143/200\n",
      "10/10 [==============================] - 2s 153ms/step - loss: 0.3412 - accuracy: 0.8594 - val_loss: 0.4971 - val_accuracy: 0.7656\n",
      "Epoch 144/200\n",
      "10/10 [==============================] - 1s 144ms/step - loss: 0.3299 - accuracy: 0.8656 - val_loss: 0.4840 - val_accuracy: 0.7656\n",
      "Epoch 145/200\n",
      "10/10 [==============================] - 1s 145ms/step - loss: 0.3301 - accuracy: 0.8500 - val_loss: 0.3126 - val_accuracy: 0.8281\n",
      "Epoch 146/200\n",
      "10/10 [==============================] - 2s 153ms/step - loss: 0.3411 - accuracy: 0.8656 - val_loss: 0.6754 - val_accuracy: 0.7188\n",
      "Epoch 147/200\n",
      "10/10 [==============================] - 1s 148ms/step - loss: 0.3339 - accuracy: 0.8594 - val_loss: 0.5425 - val_accuracy: 0.7344\n",
      "Epoch 148/200\n",
      "10/10 [==============================] - 1s 137ms/step - loss: 0.3276 - accuracy: 0.8685 - val_loss: 0.5134 - val_accuracy: 0.7812\n",
      "Epoch 149/200\n",
      "10/10 [==============================] - 1s 148ms/step - loss: 0.3507 - accuracy: 0.8594 - val_loss: 0.3991 - val_accuracy: 0.8125\n",
      "Epoch 150/200\n",
      "10/10 [==============================] - 2s 152ms/step - loss: 0.3971 - accuracy: 0.8188 - val_loss: 0.4786 - val_accuracy: 0.7500\n",
      "Epoch 151/200\n",
      "10/10 [==============================] - 1s 144ms/step - loss: 0.3605 - accuracy: 0.8406 - val_loss: 0.5162 - val_accuracy: 0.7344\n",
      "Epoch 152/200\n",
      "10/10 [==============================] - 1s 142ms/step - loss: 0.3328 - accuracy: 0.8500 - val_loss: 0.4242 - val_accuracy: 0.8125\n",
      "Epoch 153/200\n",
      "10/10 [==============================] - 1s 130ms/step - loss: 0.3500 - accuracy: 0.8408 - val_loss: 0.4931 - val_accuracy: 0.7344\n",
      "Epoch 154/200\n",
      "10/10 [==============================] - 1s 136ms/step - loss: 0.4012 - accuracy: 0.8374 - val_loss: 0.7469 - val_accuracy: 0.6406\n",
      "Epoch 155/200\n",
      "10/10 [==============================] - 2s 204ms/step - loss: 0.3822 - accuracy: 0.8000 - val_loss: 0.4643 - val_accuracy: 0.7969\n",
      "Epoch 156/200\n",
      "10/10 [==============================] - 2s 232ms/step - loss: 0.4086 - accuracy: 0.8094 - val_loss: 0.6072 - val_accuracy: 0.7812\n",
      "Epoch 157/200\n",
      "10/10 [==============================] - 2s 190ms/step - loss: 0.3385 - accuracy: 0.8531 - val_loss: 0.5883 - val_accuracy: 0.6562\n",
      "Epoch 158/200\n",
      "10/10 [==============================] - 2s 160ms/step - loss: 0.3543 - accuracy: 0.8374 - val_loss: 0.3705 - val_accuracy: 0.8125\n",
      "Epoch 159/200\n",
      "10/10 [==============================] - 2s 159ms/step - loss: 0.3653 - accuracy: 0.8531 - val_loss: 0.5472 - val_accuracy: 0.7500\n",
      "Epoch 160/200\n",
      "10/10 [==============================] - 1s 143ms/step - loss: 0.3793 - accuracy: 0.8469 - val_loss: 0.4654 - val_accuracy: 0.7656\n",
      "Epoch 161/200\n",
      "10/10 [==============================] - 1s 148ms/step - loss: 0.3758 - accuracy: 0.8304 - val_loss: 0.4036 - val_accuracy: 0.8594\n",
      "Epoch 162/200\n",
      "10/10 [==============================] - 1s 137ms/step - loss: 0.3519 - accuracy: 0.8616 - val_loss: 0.3907 - val_accuracy: 0.8281\n",
      "Epoch 163/200\n",
      "10/10 [==============================] - 2s 165ms/step - loss: 0.3397 - accuracy: 0.8344 - val_loss: 0.4687 - val_accuracy: 0.7656\n",
      "Epoch 164/200\n",
      "10/10 [==============================] - 2s 180ms/step - loss: 0.3554 - accuracy: 0.8500 - val_loss: 0.4800 - val_accuracy: 0.7969\n",
      "Epoch 165/200\n",
      "10/10 [==============================] - 2s 166ms/step - loss: 0.3675 - accuracy: 0.8304 - val_loss: 0.4125 - val_accuracy: 0.7969\n",
      "Epoch 166/200\n",
      "10/10 [==============================] - 2s 181ms/step - loss: 0.3572 - accuracy: 0.8201 - val_loss: 0.5911 - val_accuracy: 0.7969\n",
      "Epoch 167/200\n",
      "10/10 [==============================] - 51s 5s/step - loss: 0.3550 - accuracy: 0.8339 - val_loss: 0.5436 - val_accuracy: 0.7656\n",
      "Epoch 168/200\n",
      "10/10 [==============================] - 3s 298ms/step - loss: 0.3392 - accuracy: 0.8547 - val_loss: 0.5377 - val_accuracy: 0.7031\n",
      "Epoch 169/200\n",
      "10/10 [==============================] - 2s 230ms/step - loss: 0.2932 - accuracy: 0.8789 - val_loss: 0.3978 - val_accuracy: 0.7969\n",
      "Epoch 170/200\n"
     ]
    },
    {
     "name": "stdout",
     "output_type": "stream",
     "text": [
      "10/10 [==============================] - 2s 209ms/step - loss: 0.3376 - accuracy: 0.8512 - val_loss: 0.4983 - val_accuracy: 0.7969\n",
      "Epoch 171/200\n",
      "10/10 [==============================] - 3s 296ms/step - loss: 0.3367 - accuracy: 0.8625 - val_loss: 0.5874 - val_accuracy: 0.7188\n",
      "Epoch 172/200\n",
      "10/10 [==============================] - 2s 238ms/step - loss: 0.3710 - accuracy: 0.8219 - val_loss: 0.3677 - val_accuracy: 0.8438\n",
      "Epoch 173/200\n",
      "10/10 [==============================] - 2s 205ms/step - loss: 0.3465 - accuracy: 0.8656 - val_loss: 0.4226 - val_accuracy: 0.7500\n",
      "Epoch 174/200\n",
      "10/10 [==============================] - 2s 187ms/step - loss: 0.3890 - accuracy: 0.8406 - val_loss: 0.4030 - val_accuracy: 0.8281\n",
      "Epoch 175/200\n",
      "10/10 [==============================] - 2s 192ms/step - loss: 0.3495 - accuracy: 0.8512 - val_loss: 0.6887 - val_accuracy: 0.7188\n",
      "Epoch 176/200\n",
      "10/10 [==============================] - 2s 160ms/step - loss: 0.3791 - accuracy: 0.8374 - val_loss: 0.3991 - val_accuracy: 0.7969\n",
      "Epoch 177/200\n",
      "10/10 [==============================] - 2s 161ms/step - loss: 0.3254 - accuracy: 0.8375 - val_loss: 0.4045 - val_accuracy: 0.8281\n",
      "Epoch 178/200\n",
      "10/10 [==============================] - 2s 165ms/step - loss: 0.3173 - accuracy: 0.8562 - val_loss: 0.5518 - val_accuracy: 0.8125\n",
      "Epoch 179/200\n",
      "10/10 [==============================] - 2s 182ms/step - loss: 0.3342 - accuracy: 0.8344 - val_loss: 0.4310 - val_accuracy: 0.7969\n",
      "Epoch 180/200\n",
      "10/10 [==============================] - 2s 180ms/step - loss: 0.3249 - accuracy: 0.8781 - val_loss: 0.4755 - val_accuracy: 0.7812\n",
      "Epoch 181/200\n",
      "10/10 [==============================] - 2s 190ms/step - loss: 0.3665 - accuracy: 0.8375 - val_loss: 0.4342 - val_accuracy: 0.8281\n",
      "Epoch 182/200\n",
      "10/10 [==============================] - 2s 176ms/step - loss: 0.3211 - accuracy: 0.8719 - val_loss: 0.5076 - val_accuracy: 0.7969\n",
      "Epoch 183/200\n",
      "10/10 [==============================] - 2s 168ms/step - loss: 0.3264 - accuracy: 0.8651 - val_loss: 0.4525 - val_accuracy: 0.7500\n",
      "Epoch 184/200\n",
      "10/10 [==============================] - 2s 167ms/step - loss: 0.3373 - accuracy: 0.8581 - val_loss: 0.5715 - val_accuracy: 0.7812\n",
      "Epoch 185/200\n",
      "10/10 [==============================] - 2s 169ms/step - loss: 0.3343 - accuracy: 0.8562 - val_loss: 0.5774 - val_accuracy: 0.7188\n",
      "Epoch 186/200\n",
      "10/10 [==============================] - 2s 164ms/step - loss: 0.3259 - accuracy: 0.8720 - val_loss: 0.3989 - val_accuracy: 0.8438\n",
      "Epoch 187/200\n",
      "10/10 [==============================] - 2s 168ms/step - loss: 0.3265 - accuracy: 0.8562 - val_loss: 0.3951 - val_accuracy: 0.8125\n",
      "Epoch 188/200\n",
      "10/10 [==============================] - 2s 174ms/step - loss: 0.3016 - accuracy: 0.8719 - val_loss: 0.3246 - val_accuracy: 0.8438\n",
      "Epoch 189/200\n",
      "10/10 [==============================] - 2s 169ms/step - loss: 0.3685 - accuracy: 0.8469 - val_loss: 0.5016 - val_accuracy: 0.7969\n",
      "Epoch 190/200\n",
      "10/10 [==============================] - 2s 179ms/step - loss: 0.3153 - accuracy: 0.8719 - val_loss: 0.3742 - val_accuracy: 0.8594\n",
      "Epoch 191/200\n",
      "10/10 [==============================] - 2s 178ms/step - loss: 0.3339 - accuracy: 0.8616 - val_loss: 0.4602 - val_accuracy: 0.7344\n",
      "Epoch 192/200\n",
      "10/10 [==============================] - 2s 183ms/step - loss: 0.3098 - accuracy: 0.8813 - val_loss: 0.5457 - val_accuracy: 0.7500\n",
      "Epoch 193/200\n",
      "10/10 [==============================] - 2s 177ms/step - loss: 0.2908 - accuracy: 0.8844 - val_loss: 0.5432 - val_accuracy: 0.7500\n",
      "Epoch 194/200\n",
      "10/10 [==============================] - 2s 197ms/step - loss: 0.3271 - accuracy: 0.8531 - val_loss: 0.5249 - val_accuracy: 0.7812\n",
      "Epoch 195/200\n",
      "10/10 [==============================] - 2s 204ms/step - loss: 0.3256 - accuracy: 0.8625 - val_loss: 0.4532 - val_accuracy: 0.8125\n",
      "Epoch 196/200\n",
      "10/10 [==============================] - 2s 204ms/step - loss: 0.3362 - accuracy: 0.8438 - val_loss: 0.5205 - val_accuracy: 0.7656\n",
      "Epoch 197/200\n",
      "10/10 [==============================] - 3s 317ms/step - loss: 0.3229 - accuracy: 0.8478 - val_loss: 0.5705 - val_accuracy: 0.7969\n",
      "Epoch 198/200\n",
      "10/10 [==============================] - 2s 222ms/step - loss: 0.2886 - accuracy: 0.9031 - val_loss: 0.4511 - val_accuracy: 0.8125\n",
      "Epoch 199/200\n",
      "10/10 [==============================] - 2s 196ms/step - loss: 0.3223 - accuracy: 0.8438 - val_loss: 0.3632 - val_accuracy: 0.8438\n",
      "Epoch 200/200\n",
      "10/10 [==============================] - 2s 189ms/step - loss: 0.3334 - accuracy: 0.8687 - val_loss: 0.4552 - val_accuracy: 0.8750\n"
     ]
    }
   ],
   "source": [
    "model = Sequential()\n",
    "# Conv2D : Two dimenstional convulational model.\n",
    "# 32 : Input for next layer\n",
    "# (3,3) convulonational windows size\n",
    "model.add(Conv2D(64, (3, 3), input_shape=input_shape))\n",
    "model.add(Activation('relu'))\n",
    "model.add(MaxPooling2D(pool_size=(2, 2)))\n",
    "\n",
    "model.add(Conv2D(128, (3, 3)))\n",
    "model.add(Activation('relu'))\n",
    "model.add(MaxPooling2D(pool_size=(2, 2)))\n",
    "\n",
    "model.add(Flatten()) # Output convert into one dimension layer and will go to Dense layer\n",
    "model.add(Dense(128))\n",
    "model.add(Activation('relu'))\n",
    "model.add(Dense(1))\n",
    "model.add(Activation('sigmoid'))\n",
    "\n",
    "import keras\n",
    "from keras import optimizers\n",
    "model.compile(loss='binary_crossentropy', \n",
    "              optimizer=keras.optimizers.Adam(lr=.0001),\n",
    "              metrics=['accuracy'])\n",
    "\n",
    "hist = model.fit_generator(\n",
    "    train_generator,\n",
    "    steps_per_epoch=10,\n",
    "    epochs=200,\n",
    "    validation_data=validation_generator,\n",
    "    validation_steps=2)"
   ]
  },
  {
   "cell_type": "code",
   "execution_count": 110,
   "metadata": {},
   "outputs": [
    {
     "data": {
      "image/png": "[encoded data removed]",
      "text/plain": [
       "<Figure size 432x288 with 1 Axes>"
      ]
     },
     "metadata": {
      "needs_background": "light"
     },
     "output_type": "display_data"
    },
    {
     "data": {
      "image/png": "[encoded data removed]",
      "text/plain": [
       "<Figure size 432x288 with 1 Axes>"
      ]
     },
     "metadata": {
      "needs_background": "light"
     },
     "output_type": "display_data"
    }
   ],
   "source": [
    "#Visualize the models accuracy\n",
    "plt.plot(hist.history['accuracy'])\n",
    "plt.plot(hist.history['val_accuracy'])\n",
    "plt.title('Model accuracy')\n",
    "plt.ylabel('Accuracy')\n",
    "plt.xlabel('Epoch')\n",
    "plt.legend(['Train', 'Val'], loc='upper left')\n",
    "plt.show()\n",
    "\n",
    "\n",
    "#Visualize the models loss\n",
    "plt.plot(hist.history['loss'])\n",
    "plt.plot(hist.history['val_loss'])\n",
    "plt.title('Model loss')\n",
    "plt.ylabel('Loss')\n",
    "plt.xlabel('Epoch')\n",
    "plt.legend(['Train', 'Val'], loc='upper right')\n",
    "plt.show()"
   ]
  },
  {
   "cell_type": "markdown",
   "metadata": {},
   "source": [
    "#### User CLI input of path of image"
   ]
  },
  {
   "cell_type": "code",
   "execution_count": 111,
   "metadata": {},
   "outputs": [],
   "source": [
    "# create a mixed folder\n",
    "create_directory('mixed')"
   ]
  },
  {
   "cell_type": "code",
   "execution_count": 112,
   "metadata": {},
   "outputs": [
    {
     "name": "stdout",
     "output_type": "stream",
     "text": [
      "Mixed_grain/mixed_grain_1.jpg\n"
     ]
    }
   ],
   "source": [
    "mixed = input()"
   ]
  },
  {
   "cell_type": "code",
   "execution_count": 113,
   "metadata": {
    "scrolled": true
   },
   "outputs": [
    {
     "name": "stdout",
     "output_type": "stream",
     "text": [
      "Number of detected contours 364\n"
     ]
    }
   ],
   "source": [
    "# count on test image\n",
    "# Given below the tested image path for me\n",
    "# mixed='Mixed_grain/mixed_grain_1.jpg'\n",
    "pre_process_And_Count(mixed, 'mixed/mixed_')"
   ]
  },
  {
   "cell_type": "code",
   "execution_count": 114,
   "metadata": {},
   "outputs": [],
   "source": [
    "import os\n",
    "from os import listdir\n",
    "from os.path import isfile, join"
   ]
  },
  {
   "cell_type": "code",
   "execution_count": 115,
   "metadata": {
    "scrolled": true
   },
   "outputs": [
    {
     "name": "stdout",
     "output_type": "stream",
     "text": [
      "Total full : 256\n",
      "Total broken : 108\n"
     ]
    }
   ],
   "source": [
    "# {'broken_rice': 0, 'full_rice': 1}\n",
    "\n",
    "predict_dir_path='mixed/'\n",
    "onlyfiles = [f for f in listdir(predict_dir_path) if isfile(join(predict_dir_path, f))]\n",
    "\n",
    "# predicting images\n",
    "from keras.preprocessing import image\n",
    "full = 0 \n",
    "broken  = 0\n",
    "for file in onlyfiles:\n",
    "    img = image.load_img(predict_dir_path+'/'+file, target_size=(img_width, img_height), grayscale=True)\n",
    "    x = image.img_to_array(img)\n",
    "    x = np.expand_dims(x, axis=0)\n",
    "    \n",
    "    images = np.vstack([x])\n",
    "    classes = model.predict_classes(images, batch_size=32)\n",
    "    classes = classes[0][0]\n",
    "    if classes == 0:\n",
    "        broken += 1\n",
    "    else:\n",
    "        full += 1\n",
    "    \n",
    "print(\"Total full :\",full)\n",
    "print(\"Total broken :\",broken)"
   ]
  },
  {
   "cell_type": "markdown",
   "metadata": {},
   "source": [
    "### Result "
   ]
  },
  {
   "cell_type": "code",
   "execution_count": 116,
   "metadata": {},
   "outputs": [
    {
     "name": "stdout",
     "output_type": "stream",
     "text": [
      "Total rice grains- 364\n",
      "Percent of broken rice- 0.2967032967032967\n"
     ]
    }
   ],
   "source": [
    "print(\"Total rice grains-\", (broken+full))\n",
    "print('Percent of broken rice-', broken/(broken+full))"
   ]
  }
 ],
 "metadata": {
  "kernelspec": {
   "display_name": "Python 3",
   "language": "python",
   "name": "python3"
  },
  "language_info": {
   "codemirror_mode": {
    "name": "ipython",
    "version": 3
   },
   "file_extension": ".py",
   "mimetype": "text/x-python",
   "name": "python",
   "nbconvert_exporter": "python",
   "pygments_lexer": "ipython3",
   "version": "3.8.5"
  }
 },
 "nbformat": 4,
 "nbformat_minor": 2
}
